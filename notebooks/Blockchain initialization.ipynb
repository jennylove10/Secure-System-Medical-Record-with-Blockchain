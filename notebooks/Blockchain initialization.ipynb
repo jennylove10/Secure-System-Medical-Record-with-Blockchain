{
 "cells": [
  {
   "cell_type": "markdown",
   "id": "1bc6beed",
   "metadata": {},
   "source": [
    "# Secure System Medical Record with Blockchain System"
   ]
  },
  {
   "cell_type": "markdown",
   "id": "aa4d2de6",
   "metadata": {},
   "source": [
    "## Initialize the role: "
   ]
  },
  {
   "cell_type": "markdown",
   "id": "c7d39c94",
   "metadata": {},
   "source": [
    "| Role No | Role Name |Attributes| \n",
    "| :-----|:-----:| :-----|\n",
    "| 1|NMPA | NMPA can approve and certify medicine incompatibility and to grant legal certification to doctors.|\n",
    "| 2 |Patient | The Patient has the history of the illnesses, which are initiated with an empty list.\n",
    "| 3|Doctor | The Doctor has the authorization which is by default eual to None and it takes a valid value when the NMPA sends him the authorization.|\n",
    "| 4|Miner |  Each Miner has the complete history of the blockhchain and a wallet in which the fees are charged.|"
   ]
  },
  {
   "cell_type": "markdown",
   "id": "2c67f775",
   "metadata": {},
   "source": [
    "## Initiate Blockchain"
   ]
  },
  {
   "cell_type": "code",
   "execution_count": 1,
   "id": "4c4e7416",
   "metadata": {},
   "outputs": [
    {
     "name": "stdout",
     "output_type": "stream",
     "text": [
      "/Users/jennyjue/Documents/Secure_System_Medical_Record_With_Blockchain/unique_blockchain\n"
     ]
    }
   ],
   "source": [
    "cd ../unique_blockchain"
   ]
  },
  {
   "cell_type": "code",
   "execution_count": 2,
   "id": "fa4e29cd",
   "metadata": {},
   "outputs": [],
   "source": [
    "#Load the relevant packages\n",
    "import nacl.signing\n",
    "from blockchain import Blockchain\n",
    "from agents import Doctor, Miner, Patient, NMPA"
   ]
  },
  {
   "cell_type": "markdown",
   "id": "b72b0334",
   "metadata": {},
   "source": [
    "When we start the blockchain we pass an object NMPA(National Medical Products Administration) , that the blockchain instantiates immediately. With the object NMPA we also want to pass a dictionary of medicines that the NMPA showed that are incompatible with some illnesses."
   ]
  },
  {
   "cell_type": "code",
   "execution_count": 3,
   "id": "17fc3699",
   "metadata": {},
   "outputs": [],
   "source": [
    "incompatibilities = {'medicine1': ['illness1', 'illness2'],\n",
    "                    'medicine2': ['illness1'],\n",
    "                    'medicine3': ['illness2', 'illness3']}\n",
    "\n",
    "Health_block = Blockchain(NMPA, incompatibilities)"
   ]
  },
  {
   "cell_type": "markdown",
   "id": "67c4329f",
   "metadata": {},
   "source": [
    "## Instantiate the agents"
   ]
  },
  {
   "cell_type": "markdown",
   "id": "f09710f6",
   "metadata": {},
   "source": [
    "When we have the blockchain ready, we can think that the users start opening their account"
   ]
  },
  {
   "cell_type": "code",
   "execution_count": 4,
   "id": "3b86a614",
   "metadata": {},
   "outputs": [],
   "source": [
    "# Miners\n",
    "miner1 = Miner(Health_block)\n",
    "miner2 = Miner(Health_block)\n",
    "miner3 = Miner(Health_block)\n",
    "miner4 = Miner(Health_block)\n",
    "miner5 = Miner(Health_block)\n",
    "\n",
    "# Doctors\n",
    "doctor1 = Doctor('Doctor Tang')\n",
    "doctor2 = Doctor('Doctor Song')\n",
    "doctor3 = Doctor('Doctor Yuan')\n",
    "doctor4 = Doctor('Doctor Ming')\n",
    "\n",
    "# Patients\n",
    "patient1 = Patient('Mr. Qin')\n",
    "patient2 = Patient('Mr. Chu')\n",
    "patient3 = Patient('Mr. Yan')\n",
    "patient4 = Patient('Mr. Qi')\n",
    "patient5 = Patient('Mr. Wei')\n",
    "patient6 = Patient('Mr. Jin')"
   ]
  },
  {
   "cell_type": "code",
   "execution_count": 5,
   "id": "ea4da68b",
   "metadata": {},
   "outputs": [
    {
     "name": "stdout",
     "output_type": "stream",
     "text": [
      "---------doctor---------\n",
      "None\n",
      "---------patient---------\n",
      "[]\n",
      "---------miner---------\n",
      "[{'index': 1, 'timestamp': 1669098370.4895098, 'transactions': [], 'nounce': 100, 'previous_hash': 1}]\n",
      "0\n"
     ]
    }
   ],
   "source": [
    "print('---------doctor---------')\n",
    "print(doctor1.authorization)\n",
    "\n",
    "print('---------patient---------')\n",
    "print(patient1.illnesses)\n",
    "\n",
    "print('---------miner---------')\n",
    "print(miner1.chain)\n",
    "print(miner1.wallet)"
   ]
  },
  {
   "cell_type": "markdown",
   "id": "45ec4d6c",
   "metadata": {},
   "source": [
    "## Feature I：Incompatibility between medicines\n",
    "### Role:NMPA , Behavior: Retrieve the incompatibilites or adding new ones"
   ]
  },
  {
   "cell_type": "code",
   "execution_count": 6,
   "id": "66bc3be3",
   "metadata": {},
   "outputs": [
    {
     "data": {
      "text/plain": [
       "{'medicine1': ['illness1', 'illness2'],\n",
       " 'medicine2': ['illness1'],\n",
       " 'medicine3': ['illness2', 'illness3']}"
      ]
     },
     "execution_count": 6,
     "metadata": {},
     "output_type": "execute_result"
    }
   ],
   "source": [
    "Health_block.NMPA.incompatibilities"
   ]
  },
  {
   "cell_type": "code",
   "execution_count": 7,
   "id": "262bb9ae",
   "metadata": {},
   "outputs": [],
   "source": [
    "Health_block.NMPA.incompatibilities['medicine4'] =  ['illness2']"
   ]
  },
  {
   "cell_type": "code",
   "execution_count": 8,
   "id": "234b7b78",
   "metadata": {},
   "outputs": [
    {
     "data": {
      "text/plain": [
       "{'medicine1': ['illness1', 'illness2'],\n",
       " 'medicine2': ['illness1'],\n",
       " 'medicine3': ['illness2', 'illness3'],\n",
       " 'medicine4': ['illness2']}"
      ]
     },
     "execution_count": 8,
     "metadata": {},
     "output_type": "execute_result"
    }
   ],
   "source": [
    "Health_block.NMPA.incompatibilities"
   ]
  },
  {
   "cell_type": "markdown",
   "id": "7543e68f",
   "metadata": {},
   "source": [
    "## Feature Ⅱ：Authorization"
   ]
  },
  {
   "cell_type": "markdown",
   "id": "44cafb5c",
   "metadata": {},
   "source": [
    "###  Part Ⅰ: Role:Doctor , Behavior: No authorization"
   ]
  },
  {
   "cell_type": "markdown",
   "id": "1bd3bfb4",
   "metadata": {},
   "source": [
    "Now no doctor has an authorization, so let's see what happens if a doctor tries to do some diagnoses with no authorization"
   ]
  },
  {
   "cell_type": "code",
   "execution_count": 9,
   "id": "2e710782",
   "metadata": {},
   "outputs": [
    {
     "name": "stdout",
     "output_type": "stream",
     "text": [
      "Not valid Doctor authorization\n",
      "Not valid Doctor authorization\n",
      "Mined a new block with number 2\n",
      "Block number 2 broadcasted to all the nodes\n"
     ]
    }
   ],
   "source": [
    "# We first create the 2 transactions\n",
    "Health_block.new_diagnosis(doctor2, patient1, 'illness2', 0.20)\n",
    "Health_block.new_diagnosis(doctor2, patient3, 'illness3', 0.20)\n",
    "\n",
    "# Then we mine a block including all the miners\n",
    "miners = [miner1, miner2, miner3, miner4]\n",
    "Health_block.mine(miners)"
   ]
  },
  {
   "cell_type": "markdown",
   "id": "b8d11d30",
   "metadata": {},
   "source": [
    "What happens is that every miner <font color = blue>reject the transaction </font>  because the authorization cannot be opened using the public key of the NMPA. So the block is mined, but<font color = blue> without transaction</font> . Let's inspect it."
   ]
  },
  {
   "cell_type": "code",
   "execution_count": 10,
   "id": "fd32a2e3",
   "metadata": {},
   "outputs": [
    {
     "data": {
      "text/plain": [
       "[{'index': 1,\n",
       "  'timestamp': 1669098370.4895098,\n",
       "  'transactions': [],\n",
       "  'nounce': 100,\n",
       "  'previous_hash': 1},\n",
       " {'index': 2,\n",
       "  'timestamp': 1669098525.512106,\n",
       "  'transactions': [],\n",
       "  'nounce': 226,\n",
       "  'previous_hash': '4f53cda18c2baa0c0354bb5f9a3ecbe5ed12ab4d8e11ba873c2f11161202b945'}]"
      ]
     },
     "execution_count": 10,
     "metadata": {},
     "output_type": "execute_result"
    }
   ],
   "source": [
    "Health_block.chain"
   ]
  },
  {
   "cell_type": "markdown",
   "id": "dd3e1add",
   "metadata": {},
   "source": [
    "We can see that the second block does not have transactions and no illnessess have been appended to the history of the patients"
   ]
  },
  {
   "cell_type": "code",
   "execution_count": 11,
   "id": "3e7e886d",
   "metadata": {},
   "outputs": [
    {
     "name": "stdout",
     "output_type": "stream",
     "text": [
      "[]\n",
      "[]\n"
     ]
    }
   ],
   "source": [
    "print(patient1.illnesses)\n",
    "print(patient3.illnesses)"
   ]
  },
  {
   "cell_type": "markdown",
   "id": "77465399",
   "metadata": {},
   "source": [
    "### Part Ⅱ: Role: Doctor , Behavior: Authorization"
   ]
  },
  {
   "cell_type": "markdown",
   "id": "e5b5fd63",
   "metadata": {},
   "source": [
    "Now let's create a new authorization by the NMPA for the doctor1"
   ]
  },
  {
   "cell_type": "code",
   "execution_count": 12,
   "id": "709dbd29",
   "metadata": {},
   "outputs": [
    {
     "name": "stdout",
     "output_type": "stream",
     "text": [
      "Mined a new block with number 3\n",
      "Block number 3 broadcasted to all the nodes\n"
     ]
    }
   ],
   "source": [
    "Health_block.new_authorization(doctor1, 0.50)\n",
    "Health_block.mine(miners)"
   ]
  },
  {
   "cell_type": "code",
   "execution_count": 13,
   "id": "add0bbf5",
   "metadata": {},
   "outputs": [
    {
     "data": {
      "text/plain": [
       "[{'index': 1,\n",
       "  'timestamp': 1669098370.4895098,\n",
       "  'transactions': [],\n",
       "  'nounce': 100,\n",
       "  'previous_hash': 1},\n",
       " {'index': 2,\n",
       "  'timestamp': 1669098525.512106,\n",
       "  'transactions': [],\n",
       "  'nounce': 226,\n",
       "  'previous_hash': '4f53cda18c2baa0c0354bb5f9a3ecbe5ed12ab4d8e11ba873c2f11161202b945'},\n",
       " {'index': 3,\n",
       "  'timestamp': 1669098593.379095,\n",
       "  'transactions': [{'type': 'authorization',\n",
       "    'sender': <agents.NMPA at 0x7fd508a6e730>,\n",
       "    'recipient': <agents.Doctor at 0x7fd5188a0dc0>,\n",
       "    'authorization': b'1\\x1f1\\xce4.]\\xa1\\x1c\\xadF\\xd2\\xe5\\x1c\\x10\\xb4\\xb7\\x13\\xc0L\\xaa\\x8f\\xe5\\xe1b\\xf4%G\\x84\\xcf\\xd8\\x9eLY?\\xa9?\\x8eP\\xa0r\\xa0>2\\xfa\\t\\xeb7_Q\\x11\\xccY\\xc0\\\\\\x1b\\xdd\\x93G\\xa5\\xe7\\xc3\\xa0\\x0356a2f0310bca9b94a5fcbfaf25b5d23cdf84d1faad05d402dd5aafcec9e77b7b',\n",
       "    'fee': 0.5}],\n",
       "  'nounce': 346,\n",
       "  'previous_hash': '4f53cda18c2baa0c0354bb5f9a3ecbe5ed12ab4d8e11ba873c2f11161202b945'}]"
      ]
     },
     "execution_count": 13,
     "metadata": {},
     "output_type": "execute_result"
    }
   ],
   "source": [
    "Health_block.chain"
   ]
  },
  {
   "cell_type": "markdown",
   "id": "e9ade9b2",
   "metadata": {},
   "source": [
    "In the transaction of the last block we now can see the authorization issued by the NMPA to the doctor. If we inspect the doctor authorization now we should see the unique code shown in the transaction"
   ]
  },
  {
   "cell_type": "code",
   "execution_count": 14,
   "id": "ece65a8d",
   "metadata": {},
   "outputs": [
    {
     "data": {
      "text/plain": [
       "b'1\\x1f1\\xce4.]\\xa1\\x1c\\xadF\\xd2\\xe5\\x1c\\x10\\xb4\\xb7\\x13\\xc0L\\xaa\\x8f\\xe5\\xe1b\\xf4%G\\x84\\xcf\\xd8\\x9eLY?\\xa9?\\x8eP\\xa0r\\xa0>2\\xfa\\t\\xeb7_Q\\x11\\xccY\\xc0\\\\\\x1b\\xdd\\x93G\\xa5\\xe7\\xc3\\xa0\\x0356a2f0310bca9b94a5fcbfaf25b5d23cdf84d1faad05d402dd5aafcec9e77b7b'"
      ]
     },
     "execution_count": 14,
     "metadata": {},
     "output_type": "execute_result"
    }
   ],
   "source": [
    "doctor1.authorization"
   ]
  },
  {
   "cell_type": "markdown",
   "id": "e1812743",
   "metadata": {},
   "source": [
    "If doctor1 tries now to do diagnoses, these will have immediate effects on patients"
   ]
  },
  {
   "cell_type": "code",
   "execution_count": 15,
   "id": "e25e62a8",
   "metadata": {},
   "outputs": [
    {
     "name": "stdout",
     "output_type": "stream",
     "text": [
      "Mined a new block with number 4\n",
      "Block number 4 broadcasted to all the nodes\n"
     ]
    }
   ],
   "source": [
    "Health_block.new_diagnosis(doctor1, patient3, 'illness1', 0.20)\n",
    "Health_block.mine(miners)"
   ]
  },
  {
   "cell_type": "code",
   "execution_count": 16,
   "id": "71b3c3c1",
   "metadata": {},
   "outputs": [
    {
     "data": {
      "text/plain": [
       "['illness1']"
      ]
     },
     "execution_count": 16,
     "metadata": {},
     "output_type": "execute_result"
    }
   ],
   "source": [
    "patient3.illnesses"
   ]
  },
  {
   "cell_type": "markdown",
   "id": "a4b92e2b",
   "metadata": {},
   "source": [
    "### Part Ⅲ: Role:Doctor , Behavior: Fake Authorization"
   ]
  },
  {
   "cell_type": "markdown",
   "id": "560d7d23",
   "metadata": {},
   "source": [
    "Let's see what happens if a doctor, say doctor2, creates a fake authorization and put it in its own variable authorization"
   ]
  },
  {
   "cell_type": "code",
   "execution_count": 17,
   "id": "0d0bc950",
   "metadata": {},
   "outputs": [],
   "source": [
    "# We first create a random privte key\n",
    "private_key_random = nacl.signing.SigningKey.generate()\n",
    "\n",
    "# We then sign the address of the doctor with that key\n",
    "signed = private_key_random.sign(bytes(doctor2.address, 'utf-8'))\n",
    "\n",
    "# Finally we insert the authorization in the variable\n",
    "doctor2.authorization = signed"
   ]
  },
  {
   "cell_type": "code",
   "execution_count": 18,
   "id": "1295cb38",
   "metadata": {},
   "outputs": [
    {
     "name": "stdout",
     "output_type": "stream",
     "text": [
      "b'\\x90\\xa1\\x0c\\xac\\x03\\x15^\\x941\\x9a\\x91[\\xc2\\xc84\\x94{\\x12E\\xaa\\xba\\xd4hLLA\\xcc\\\\\\x7fhs\\xf8h\\x05\\x84\\x99|\"R:\\xd3;\\x89\\xc4d\\xcf\\x0cG;.\\xb9\\xd3l\\xe3W\\xe6\\xc5\\xc4-a\\x8er\\x85\\x0f9222e9623fc4d671788146ed58b52d52b161e0f897cf7ce351d6025d96ad982c'\n"
     ]
    }
   ],
   "source": [
    "print(doctor2.authorization)"
   ]
  },
  {
   "cell_type": "code",
   "execution_count": 19,
   "id": "8020c86e",
   "metadata": {},
   "outputs": [
    {
     "name": "stdout",
     "output_type": "stream",
     "text": [
      "Not valid Doctor authorization\n",
      "Mined a new block with number 5\n",
      "Block number 5 broadcasted to all the nodes\n"
     ]
    }
   ],
   "source": [
    "Health_block.new_diagnosis(doctor2, patient1, 'illness2', 0.20)\n",
    "Health_block.mine(miners)"
   ]
  },
  {
   "cell_type": "markdown",
   "id": "6d35c80f",
   "metadata": {},
   "source": [
    "Other miners detect the fake authorization and <mark>the last block will not contain not valid transactions<mark>"
   ]
  },
  {
   "cell_type": "code",
   "execution_count": 21,
   "id": "d76d2ba6",
   "metadata": {},
   "outputs": [
    {
     "data": {
      "text/plain": [
       "[{'index': 1,\n",
       "  'timestamp': 1669098370.4895098,\n",
       "  'transactions': [],\n",
       "  'nounce': 100,\n",
       "  'previous_hash': 1},\n",
       " {'index': 2,\n",
       "  'timestamp': 1669098525.512106,\n",
       "  'transactions': [],\n",
       "  'nounce': 226,\n",
       "  'previous_hash': '4f53cda18c2baa0c0354bb5f9a3ecbe5ed12ab4d8e11ba873c2f11161202b945'},\n",
       " {'index': 3,\n",
       "  'timestamp': 1669098593.379095,\n",
       "  'transactions': [{'type': 'authorization',\n",
       "    'sender': <agents.NMPA at 0x7fd508a6e730>,\n",
       "    'recipient': <agents.Doctor at 0x7fd5188a0dc0>,\n",
       "    'authorization': b'1\\x1f1\\xce4.]\\xa1\\x1c\\xadF\\xd2\\xe5\\x1c\\x10\\xb4\\xb7\\x13\\xc0L\\xaa\\x8f\\xe5\\xe1b\\xf4%G\\x84\\xcf\\xd8\\x9eLY?\\xa9?\\x8eP\\xa0r\\xa0>2\\xfa\\t\\xeb7_Q\\x11\\xccY\\xc0\\\\\\x1b\\xdd\\x93G\\xa5\\xe7\\xc3\\xa0\\x0356a2f0310bca9b94a5fcbfaf25b5d23cdf84d1faad05d402dd5aafcec9e77b7b',\n",
       "    'fee': 0.5}],\n",
       "  'nounce': 346,\n",
       "  'previous_hash': '4f53cda18c2baa0c0354bb5f9a3ecbe5ed12ab4d8e11ba873c2f11161202b945'},\n",
       " {'index': 4,\n",
       "  'timestamp': 1669098661.172205,\n",
       "  'transactions': [{'type': 'diagnosis',\n",
       "    'sender': <agents.Doctor at 0x7fd5188a0dc0>,\n",
       "    'recipient': <agents.Patient at 0x7fd51881dd90>,\n",
       "    'illness': 'illness1',\n",
       "    'fee': 0.2}],\n",
       "  'nounce': 57,\n",
       "  'previous_hash': '5aec5953b6d41d99ad4f0afad2ff7287c998389bfe3ce50cfa5da5c75d3d8cbb'},\n",
       " {'index': 5,\n",
       "  'timestamp': 1669098877.651616,\n",
       "  'transactions': [],\n",
       "  'nounce': 289,\n",
       "  'previous_hash': '8c412a59b0c327d40c89d6d78ffeea88b5987afafb42a83a5eebfd5e321848dd'}]"
      ]
     },
     "execution_count": 21,
     "metadata": {},
     "output_type": "execute_result"
    }
   ],
   "source": [
    "Health_block.chain"
   ]
  },
  {
   "cell_type": "markdown",
   "id": "37a0b7f2",
   "metadata": {},
   "source": [
    "## Feature Ⅲ：Prescription"
   ]
  },
  {
   "cell_type": "markdown",
   "id": "3cbdb763",
   "metadata": {},
   "source": [
    "Another feature of the blockchain is that<font color = blue> prevents doctors to do prescriptions of medicines not compatible with the illness history of the patient</font> ."
   ]
  },
  {
   "cell_type": "code",
   "execution_count": 22,
   "id": "b468d87a",
   "metadata": {},
   "outputs": [
    {
     "data": {
      "text/plain": [
       "{'medicine1': ['illness1', 'illness2'],\n",
       " 'medicine2': ['illness1'],\n",
       " 'medicine3': ['illness2', 'illness3'],\n",
       " 'medicine4': ['illness2']}"
      ]
     },
     "execution_count": 22,
     "metadata": {},
     "output_type": "execute_result"
    }
   ],
   "source": [
    "Health_block.NMPA.incompatibilities"
   ]
  },
  {
   "cell_type": "code",
   "execution_count": 23,
   "id": "1d465c68",
   "metadata": {},
   "outputs": [
    {
     "data": {
      "text/plain": [
       "['illness1']"
      ]
     },
     "execution_count": 23,
     "metadata": {},
     "output_type": "execute_result"
    }
   ],
   "source": [
    "patient3.illnesses"
   ]
  },
  {
   "cell_type": "markdown",
   "id": "dcaf7913",
   "metadata": {},
   "source": [
    "if we see above, patient3 had <font color = red>illness1</font> and looking at the incompatibilites declared by the NMPA  <font color = red>medicine1 </font>and <font color = red>medicine2 </font>are not compatible with this illness."
   ]
  },
  {
   "cell_type": "code",
   "execution_count": 24,
   "id": "1c2f806a",
   "metadata": {},
   "outputs": [
    {
     "name": "stdout",
     "output_type": "stream",
     "text": [
      "Incompatibility of one prescription with the history of the patient\n",
      "Mined a new block with number 6\n",
      "Block number 6 broadcasted to all the nodes\n"
     ]
    }
   ],
   "source": [
    "# Let's try to do a prescription incompatible with the illnesses of patient3\n",
    "Health_block.new_prescription(doctor1, patient3, 'medicine2', 0.20)\n",
    "Health_block.mine(miners)"
   ]
  },
  {
   "cell_type": "markdown",
   "id": "c3f09214",
   "metadata": {},
   "source": [
    "Also in this case, the mined block <font color = blue>will not contain not allowed transaction as in this case</font> "
   ]
  },
  {
   "cell_type": "markdown",
   "id": "915a6f4d",
   "metadata": {},
   "source": [
    "## Feature Ⅳ：Miner Wallet"
   ]
  },
  {
   "cell_type": "markdown",
   "id": "e313e83c",
   "metadata": {},
   "source": [
    "Every Miner has a wallet in which the fees of the transactions are charged. Let's inspect the wallets of the miners at this point"
   ]
  },
  {
   "cell_type": "code",
   "execution_count": 25,
   "id": "7124d3a5",
   "metadata": {},
   "outputs": [
    {
     "name": "stdout",
     "output_type": "stream",
     "text": [
      "0.7 0 0 0\n"
     ]
    }
   ],
   "source": [
    "print(miner1.wallet, miner2.wallet, miner3.wallet, miner4.wallet)"
   ]
  },
  {
   "cell_type": "markdown",
   "id": "5b3185d0",
   "metadata": {},
   "source": [
    "## Feature Ⅴ：Reading Permission ——Protecting Patient Privacy"
   ]
  },
  {
   "cell_type": "markdown",
   "id": "2d5738a5",
   "metadata": {},
   "source": [
    "The last feature that the blockchain implements is a temporary couple of private and public keys for each patient, so that the doctor can access the history of the patient only one time without future access to the patient's data "
   ]
  },
  {
   "cell_type": "code",
   "execution_count": 26,
   "id": "eae837a1",
   "metadata": {},
   "outputs": [
    {
     "name": "stdout",
     "output_type": "stream",
     "text": [
      "Temporary keys have been refreshed. Old keys have been destroyed and will not work.\n",
      "['illness1']\n"
     ]
    }
   ],
   "source": [
    "# Let's first store the orivate key fo the patient\n",
    "private_key = patient3.private_key\n",
    "\n",
    "# Now let's access the history of the patient using the private key\n",
    "print(Health_block.get_patient_history(patient3, private_key=private_key))"
   ]
  },
  {
   "cell_type": "markdown",
   "id": "6b87d4fe",
   "metadata": {},
   "source": [
    "If now we attempt to <font color=red> reaccess </font> the history again, this will be <mark>impossible"
   ]
  },
  {
   "cell_type": "code",
   "execution_count": 27,
   "id": "859e5054",
   "metadata": {},
   "outputs": [
    {
     "ename": "PermissionError",
     "evalue": "You do not have access to the BlockChain of this patient.",
     "output_type": "error",
     "traceback": [
      "\u001b[0;31m---------------------------------------------------------------------------\u001b[0m",
      "\u001b[0;31mPermissionError\u001b[0m                           Traceback (most recent call last)",
      "File \u001b[0;32m~/Documents/Secure_System_Medical_Record_With_Blockchain/unique_blockchain/blockchain.py:315\u001b[0m, in \u001b[0;36mBlockchain.get_patient_history\u001b[0;34m(self, patient, private_key)\u001b[0m\n\u001b[1;32m    314\u001b[0m \u001b[38;5;28;01mtry\u001b[39;00m:\n\u001b[0;32m--> 315\u001b[0m     \u001b[38;5;28;43mself\u001b[39;49m\u001b[38;5;241;43m.\u001b[39;49m\u001b[43mcheck_keys\u001b[49m\u001b[43m(\u001b[49m\u001b[43mpatient\u001b[49m\u001b[43m,\u001b[49m\u001b[43m \u001b[49m\u001b[43mprivate_key\u001b[49m\u001b[43m)\u001b[49m\n\u001b[1;32m    316\u001b[0m     patient\u001b[38;5;241m.\u001b[39mrefresh_keys()\n",
      "File \u001b[0;32m~/Documents/Secure_System_Medical_Record_With_Blockchain/unique_blockchain/blockchain.py:299\u001b[0m, in \u001b[0;36mBlockchain.check_keys\u001b[0;34m(self, Patient, private_key)\u001b[0m\n\u001b[1;32m    298\u001b[0m \u001b[38;5;28;01mif\u001b[39;00m public_key_temp \u001b[38;5;241m!=\u001b[39m public_key:\n\u001b[0;32m--> 299\u001b[0m     \u001b[38;5;28;01mraise\u001b[39;00m \u001b[38;5;167;01mPermissionError\u001b[39;00m(\u001b[38;5;124m\"\u001b[39m\u001b[38;5;124mYou do not have access to the BlockChain of this patient.\u001b[39m\u001b[38;5;124m\"\u001b[39m)\n",
      "\u001b[0;31mPermissionError\u001b[0m: You do not have access to the BlockChain of this patient.",
      "\nDuring handling of the above exception, another exception occurred:\n",
      "\u001b[0;31mPermissionError\u001b[0m                           Traceback (most recent call last)",
      "Input \u001b[0;32mIn [27]\u001b[0m, in \u001b[0;36m<cell line: 2>\u001b[0;34m()\u001b[0m\n\u001b[1;32m      1\u001b[0m \u001b[38;5;66;03m# If now we attempt to reaccess the history again, this will not be possible\u001b[39;00m\n\u001b[0;32m----> 2\u001b[0m \u001b[38;5;28mprint\u001b[39m(\u001b[43mHealth_block\u001b[49m\u001b[38;5;241;43m.\u001b[39;49m\u001b[43mget_patient_history\u001b[49m\u001b[43m(\u001b[49m\u001b[43mpatient3\u001b[49m\u001b[43m,\u001b[49m\u001b[43m \u001b[49m\u001b[43mprivate_key\u001b[49m\u001b[38;5;241;43m=\u001b[39;49m\u001b[43mprivate_key\u001b[49m\u001b[43m)\u001b[49m)\n",
      "File \u001b[0;32m~/Documents/Secure_System_Medical_Record_With_Blockchain/unique_blockchain/blockchain.py:319\u001b[0m, in \u001b[0;36mBlockchain.get_patient_history\u001b[0;34m(self, patient, private_key)\u001b[0m\n\u001b[1;32m    317\u001b[0m     \u001b[38;5;28;01mreturn\u001b[39;00m patient\u001b[38;5;241m.\u001b[39millnesses\n\u001b[1;32m    318\u001b[0m \u001b[38;5;28;01mexcept\u001b[39;00m:\n\u001b[0;32m--> 319\u001b[0m     \u001b[38;5;28;01mraise\u001b[39;00m \u001b[38;5;167;01mPermissionError\u001b[39;00m(\u001b[38;5;124m\"\u001b[39m\u001b[38;5;124mYou do not have access to the BlockChain of this patient.\u001b[39m\u001b[38;5;124m\"\u001b[39m)\n",
      "\u001b[0;31mPermissionError\u001b[0m: You do not have access to the BlockChain of this patient."
     ]
    }
   ],
   "source": [
    "# If now we attempt to reaccess the history again, this will not be possible\n",
    "print(Health_block.get_patient_history(patient3, private_key=private_key))"
   ]
  },
  {
   "cell_type": "markdown",
   "id": "21177bc6",
   "metadata": {},
   "source": [
    "### After presenting the features, the scene simulation test is carried out next."
   ]
  }
 ],
 "metadata": {
  "kernelspec": {
   "display_name": "Python 3 (ipykernel)",
   "language": "python",
   "name": "python3"
  },
  "language_info": {
   "codemirror_mode": {
    "name": "ipython",
    "version": 3
   },
   "file_extension": ".py",
   "mimetype": "text/x-python",
   "name": "python",
   "nbconvert_exporter": "python",
   "pygments_lexer": "ipython3",
   "version": "3.9.12"
  }
 },
 "nbformat": 4,
 "nbformat_minor": 5
}
